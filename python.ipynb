{
 "cells": [
  {
   "cell_type": "code",
   "execution_count": null,
   "id": "f736b839",
   "metadata": {},
   "outputs": [],
   "source": [
    "what_to_do = input('are you hungry?')\n",
    "if what_to_do == 'yes':\n",
    "    print('eat samosa')\n",
    "else:\n",
    "    print('do your home work')"
   ]
  },
  {
   "cell_type": "code",
   "execution_count": null,
   "id": "a3cda48b",
   "metadata": {},
   "outputs": [],
   "source": []
  }
 ],
 "metadata": {
  "kernelspec": {
   "display_name": "Python 3 (ipykernel)",
   "language": "python",
   "name": "python3"
  },
  "language_info": {
   "codemirror_mode": {
    "name": "ipython",
    "version": 3
   },
   "file_extension": ".py",
   "mimetype": "text/x-python",
   "name": "python",
   "nbconvert_exporter": "python",
   "pygments_lexer": "ipython3",
   "version": "3.9.12"
  }
 },
 "nbformat": 4,
 "nbformat_minor": 5
}
